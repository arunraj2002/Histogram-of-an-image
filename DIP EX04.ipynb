{
 "cells": [
  {
   "cell_type": "code",
   "execution_count": null,
   "metadata": {},
   "outputs": [],
   "source": [
    "import cv2\n",
    "import matplotlib.pyplot as plt\n",
    "#gray scale and color image\n",
    "gray = cv2.imread(\"grey.jpg\")\n",
    "color = cv2.imread(\"dip.jpg\")\n",
    "#resizing and printing the image\n",
    "gray_image= cv2.resize(gray, (300,170))\n",
    "cv2.imshow('GRAY IMAGE',gray)\n",
    "color_image= cv2.resize(color, (300,170))\n",
    "cv2.imshow('COLOR IMAGE',color)\n",
    "plt.imshow(gray)\n",
    "cv2.waitKey(0)"
   ]
  },
  {
   "cell_type": "code",
   "execution_count": null,
   "metadata": {},
   "outputs": [],
   "source": [
    "gray_hist=cv2.calcHist([gray],[0],None,[256],[0,255])\n",
    "color_hist=cv2.calcHist([color],[2],None,[256],[0,255])\n",
    "plt.figure()\n",
    "plt.title(\"GRAY IMAGE\")\n",
    "plt.xlabel(\"GRAYSCALE VALUE\")\n",
    "plt.ylabel(\"PIXEL COUNT\")\n",
    "plt.stem(gray_hist)\n",
    "plt.show()\n",
    "plt.figure()\n",
    "plt.title(\"COLOR IMAGE\")\n",
    "plt.xlabel(\"COLORSCALE VALUE\")\n",
    "plt.ylabel(\"PIXEL COUNT\")\n",
    "plt.stem(color_hist)\n",
    "plt.show()"
   ]
  },
  {
   "cell_type": "code",
   "execution_count": 6,
   "metadata": {},
   "outputs": [],
   "source": [
    "import cv2\n",
    "Gray_image=cv2.imread('grey.jpg',0)\n",
    "equalize=cv2.equalizeHist(Gray_image)\n",
    "#resizing image\n",
    "Gray_image= cv2.resize(Gray_image, (270,190))\n",
    "equalize= cv2.resize(equalize, (270,190))\n",
    "#output\n",
    "cv2.imshow('GRAY IMAGE',Gray_image)\n",
    "cv2.imshow('EQUALIZED IMAGE',equalize)\n",
    "cv2.waitKey(0)\n",
    "cv2.destroyAllWindows()"
   ]
  },
  {
   "cell_type": "code",
   "execution_count": null,
   "metadata": {},
   "outputs": [],
   "source": []
  }
 ],
 "metadata": {
  "kernelspec": {
   "display_name": "Python 3",
   "language": "python",
   "name": "python3"
  },
  "language_info": {
   "codemirror_mode": {
    "name": "ipython",
    "version": 3
   },
   "file_extension": ".py",
   "mimetype": "text/x-python",
   "name": "python",
   "nbconvert_exporter": "python",
   "pygments_lexer": "ipython3",
   "version": "3.8.5"
  }
 },
 "nbformat": 4,
 "nbformat_minor": 4
}
